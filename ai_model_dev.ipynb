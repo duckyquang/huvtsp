{
 "cells": [
  {
   "cell_type": "markdown",
   "id": "7aa0329d",
   "metadata": {},
   "source": [
    "# AI Model Development Notebook"
   ]
  },
  {
   "cell_type": "code",
   "execution_count": null,
   "id": "da512b4b",
   "metadata": {},
   "outputs": [],
   "source": [
    "import pandas as pd\n",
    "import matplotlib.pyplot as plt\n",
    "from sklearn.ensemble import IsolationForest"
   ]
  },
  {
   "cell_type": "code",
   "execution_count": null,
   "id": "048dd1b6",
   "metadata": {},
   "outputs": [],
   "source": [
    "# Simulate data\n",
    "df = pd.read_csv('predictions.csv')\n",
    "df['date'] = pd.to_datetime(df['date'])"
   ]
  },
  {
   "cell_type": "code",
   "execution_count": null,
   "id": "2e014f08",
   "metadata": {},
   "outputs": [],
   "source": [
    "model = IsolationForest(contamination=0.1, random_state=42)\n",
    "model.fit(df[['output_kwh']].fillna(0))\n",
    "df['anomaly'] = model.predict(df[['output_kwh']].fillna(0)) == -1"
   ]
  },
  {
   "cell_type": "code",
   "execution_count": null,
   "id": "a8cfe56b",
   "metadata": {},
   "outputs": [],
   "source": [
    "anomalies = df[df['anomaly'] == True]['date'].dt.strftime('%Y-%m-%d').tolist()\n",
    "summary = f\"Anomalies detected on: {', '.join(anomalies)}\"\n",
    "with open('weekly_summary.txt', 'w') as f:\n",
    "    f.write(summary)"
   ]
  },
  {
   "cell_type": "code",
   "execution_count": null,
   "id": "6f0650b2",
   "metadata": {},
   "outputs": [],
   "source": [
    "plt.figure(figsize=(10, 5))\n",
    "plt.plot(df['date'], df['output_kwh'], label='Output (kWh)')\n",
    "plt.scatter(df[df['anomaly']]['date'], df[df['anomaly']]['output_kwh'], color='red', label='Anomalies')\n",
    "plt.legend()\n",
    "plt.title('Anomaly Detection')\n",
    "plt.grid(True)\n",
    "plt.savefig('anomaly_plot.png')\n",
    "plt.close()"
   ]
  }
 ],
 "metadata": {},
 "nbformat": 4,
 "nbformat_minor": 5
}