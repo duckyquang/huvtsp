{
  "cells": [
    {
      "cell_type": "code",
      "execution_count": null,
      "metadata": {
        "vscode": {
          "languageId": "plaintext"
        }
      },
      "outputs": [],
      "source": [
        "# Alternative Anomaly Detection Methods - Week 4 Testing\n",
        "\n",
        "This notebook explores alternative anomaly detection approaches for the HUVTSP energy monitoring system.\n",
        "\n",
        "## Objective\n",
        "Compare different anomaly detection algorithms to find the best approach for energy output monitoring.\n",
        "\n",
        "## Methods Tested\n",
        "1. Isolation Forest (Primary)\n",
        "2. Z-score Analysis\n",
        "3. Local Outlier Factor (LOF)\n",
        "4. One-Class SVM\n",
        "5. Statistical Process Control (SPC)\n"
      ]
    },
    {
      "cell_type": "code",
      "execution_count": null,
      "metadata": {},
      "outputs": [],
      "source": [
        "# Import required libraries\n",
        "import pandas as pd\n",
        "import numpy as np\n",
        "import matplotlib.pyplot as plt\n",
        "import seaborn as sns\n",
        "from sklearn.ensemble import IsolationForest\n",
        "from sklearn.neighbors import LocalOutlierFactor\n",
        "from sklearn.svm import OneClassSVM\n",
        "from sklearn.preprocessing import StandardScaler\n",
        "from scipy import stats\n",
        "import warnings\n",
        "warnings.filterwarnings('ignore')\n",
        "\n",
        "# Set style\n",
        "plt.style.use('seaborn-v0_8')\n",
        "sns.set_palette(\"husl\")\n",
        "\n",
        "print(\"✅ Libraries imported successfully\")\n"
      ]
    },
    {
      "cell_type": "code",
      "execution_count": null,
      "metadata": {},
      "outputs": [],
      "source": [
        "# Load energy data\n",
        "try:\n",
        "    # Try to load from existing predictions\n",
        "    data = pd.read_csv('../../Final App/predictions.csv')\n",
        "    print(f\"✅ Loaded {len(data)} records from predictions.csv\")\n",
        "except FileNotFoundError:\n",
        "    # Generate synthetic data for testing\n",
        "    np.random.seed(42)\n",
        "    dates = pd.date_range('2024-01-01', periods=100, freq='H')\n",
        "    \n",
        "    # Generate normal energy output with some patterns\n",
        "    base_output = 500 + 100 * np.sin(np.arange(100) * 0.1) + np.random.normal(0, 30, 100)\n",
        "    \n",
        "    # Inject some anomalies\n",
        "    anomaly_indices = [20, 45, 78, 95]\n",
        "    base_output[anomaly_indices] = [200, 800, 150, 750]\n",
        "    \n",
        "    data = pd.DataFrame({\n",
        "        'date': dates,\n",
        "        'energyOutput': np.maximum(0, base_output)\n",
        "    })\n",
        "    print(f\"✅ Generated {len(data)} synthetic records for testing\")\n",
        "\n",
        "# Display basic info\n",
        "print(f\"\\n📊 Data Overview:\")\n",
        "print(f\"- Records: {len(data)}\")\n",
        "print(f\"- Columns: {list(data.columns)}\")\n",
        "print(f\"- Date range: {data['date'].min()} to {data['date'].max()}\")\n",
        "print(f\"- Energy output range: {data['energyOutput'].min():.1f} - {data['energyOutput'].max():.1f} kWh\")\n",
        "\n",
        "data.head()\n"
      ]
    }
  ],
  "metadata": {
    "language_info": {
      "name": "python"
    }
  },
  "nbformat": 4,
  "nbformat_minor": 2
}
